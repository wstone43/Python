{
 "cells": [
  {
   "cell_type": "code",
   "execution_count": 2,
   "metadata": {},
   "outputs": [
    {
     "name": "stdout",
     "output_type": "stream",
     "text": [
      "Your discriminant equals:  0.5\n",
      "your vertex is: 0.5 , 0.375\n",
      "x1: 2\n",
      "y1: -6.0\n",
      "slope: -11.0\n",
      "m*x: -22.0\n",
      "f(x): [ 9.99900e+05  9.70200e+05  9.41094e+05  9.12576e+05  8.84640e+05\n",
      "  8.57280e+05  8.30490e+05  8.04264e+05  7.78596e+05  7.53480e+05\n",
      "  7.28910e+05  7.04880e+05  6.81384e+05  6.58416e+05  6.35970e+05\n",
      "  6.14040e+05  5.92620e+05  5.71704e+05  5.51286e+05  5.31360e+05\n",
      "  5.11920e+05  4.92960e+05  4.74474e+05  4.56456e+05  4.38900e+05\n",
      "  4.21800e+05  4.05150e+05  3.88944e+05  3.73176e+05  3.57840e+05\n",
      "  3.42930e+05  3.28440e+05  3.14364e+05  3.00696e+05  2.87430e+05\n",
      "  2.74560e+05  2.62080e+05  2.49984e+05  2.38266e+05  2.26920e+05\n",
      "  2.15940e+05  2.05320e+05  1.95054e+05  1.85136e+05  1.75560e+05\n",
      "  1.66320e+05  1.57410e+05  1.48824e+05  1.40556e+05  1.32600e+05\n",
      "  1.24950e+05  1.17600e+05  1.10544e+05  1.03776e+05  9.72900e+04\n",
      "  9.10800e+04  8.51400e+04  7.94640e+04  7.40460e+04  6.88800e+04\n",
      "  6.39600e+04  5.92800e+04  5.48340e+04  5.06160e+04  4.66200e+04\n",
      "  4.28400e+04  3.92700e+04  3.59040e+04  3.27360e+04  2.97600e+04\n",
      "  2.69700e+04  2.43600e+04  2.19240e+04  1.96560e+04  1.75500e+04\n",
      "  1.56000e+04  1.38000e+04  1.21440e+04  1.06260e+04  9.24000e+03\n",
      "  7.98000e+03  6.84000e+03  5.81400e+03  4.89600e+03  4.08000e+03\n",
      "  3.36000e+03  2.73000e+03  2.18400e+03  1.71600e+03  1.32000e+03\n",
      "  9.90000e+02  7.20000e+02  5.04000e+02  3.36000e+02  2.10000e+02\n",
      "  1.20000e+02  6.00000e+01  2.40000e+01  6.00000e+00  0.00000e+00\n",
      "  0.00000e+00  0.00000e+00 -6.00000e+00 -2.40000e+01 -6.00000e+01\n",
      " -1.20000e+02 -2.10000e+02 -3.36000e+02 -5.04000e+02 -7.20000e+02\n",
      " -9.90000e+02 -1.32000e+03 -1.71600e+03 -2.18400e+03 -2.73000e+03\n",
      " -3.36000e+03 -4.08000e+03 -4.89600e+03 -5.81400e+03 -6.84000e+03\n",
      " -7.98000e+03 -9.24000e+03 -1.06260e+04 -1.21440e+04 -1.38000e+04\n",
      " -1.56000e+04 -1.75500e+04 -1.96560e+04 -2.19240e+04 -2.43600e+04\n",
      " -2.69700e+04 -2.97600e+04 -3.27360e+04 -3.59040e+04 -3.92700e+04\n",
      " -4.28400e+04 -4.66200e+04 -5.06160e+04 -5.48340e+04 -5.92800e+04\n",
      " -6.39600e+04 -6.88800e+04 -7.40460e+04 -7.94640e+04 -8.51400e+04\n",
      " -9.10800e+04 -9.72900e+04 -1.03776e+05 -1.10544e+05 -1.17600e+05\n",
      " -1.24950e+05 -1.32600e+05 -1.40556e+05 -1.48824e+05 -1.57410e+05\n",
      " -1.66320e+05 -1.75560e+05 -1.85136e+05 -1.95054e+05 -2.05320e+05\n",
      " -2.15940e+05 -2.26920e+05 -2.38266e+05 -2.49984e+05 -2.62080e+05\n",
      " -2.74560e+05 -2.87430e+05 -3.00696e+05 -3.14364e+05 -3.28440e+05\n",
      " -3.42930e+05 -3.57840e+05 -3.73176e+05 -3.88944e+05 -4.05150e+05\n",
      " -4.21800e+05 -4.38900e+05 -4.56456e+05 -4.74474e+05 -4.92960e+05\n",
      " -5.11920e+05 -5.31360e+05 -5.51286e+05 -5.71704e+05 -5.92620e+05\n",
      " -6.14040e+05 -6.35970e+05 -6.58416e+05 -6.81384e+05 -7.04880e+05\n",
      " -7.28910e+05 -7.53480e+05 -7.78596e+05 -8.04264e+05 -8.30490e+05\n",
      " -8.57280e+05 -8.84640e+05 -9.12576e+05 -9.41094e+05 -9.70200e+05]\n",
      "tangent: [ 1116.  1105.  1094.  1083.  1072.  1061.  1050.  1039.  1028.  1017.\n",
      "  1006.   995.   984.   973.   962.   951.   940.   929.   918.   907.\n",
      "   896.   885.   874.   863.   852.   841.   830.   819.   808.   797.\n",
      "   786.   775.   764.   753.   742.   731.   720.   709.   698.   687.\n",
      "   676.   665.   654.   643.   632.   621.   610.   599.   588.   577.\n",
      "   566.   555.   544.   533.   522.   511.   500.   489.   478.   467.\n",
      "   456.   445.   434.   423.   412.   401.   390.   379.   368.   357.\n",
      "   346.   335.   324.   313.   302.   291.   280.   269.   258.   247.\n",
      "   236.   225.   214.   203.   192.   181.   170.   159.   148.   137.\n",
      "   126.   115.   104.    93.    82.    71.    60.    49.    38.    27.\n",
      "    16.     5.    -6.   -17.   -28.   -39.   -50.   -61.   -72.   -83.\n",
      "   -94.  -105.  -116.  -127.  -138.  -149.  -160.  -171.  -182.  -193.\n",
      "  -204.  -215.  -226.  -237.  -248.  -259.  -270.  -281.  -292.  -303.\n",
      "  -314.  -325.  -336.  -347.  -358.  -369.  -380.  -391.  -402.  -413.\n",
      "  -424.  -435.  -446.  -457.  -468.  -479.  -490.  -501.  -512.  -523.\n",
      "  -534.  -545.  -556.  -567.  -578.  -589.  -600.  -611.  -622.  -633.\n",
      "  -644.  -655.  -666.  -677.  -688.  -699.  -710.  -721.  -732.  -743.\n",
      "  -754.  -765.  -776.  -787.  -798.  -809.  -820.  -831.  -842.  -853.\n",
      "  -864.  -875.  -886.  -897.  -908.  -919.  -930.  -941.  -952.  -963.\n",
      "  -974.  -985.  -996. -1007. -1018. -1029. -1040. -1051. -1062. -1073.]\n"
     ]
    },
    {
     "name": "stderr",
     "output_type": "stream",
     "text": [
      "C:\\Users\\wston\\AppData\\Local\\Temp/ipykernel_3740/2785393070.py:28: DeprecationWarning: The truth value of an empty array is ambiguous. Returning False, but in future this will result in an error. Use `array.size > 0` to check that an array is not empty.\n",
      "  if x1==(x1[d==x1]):\n",
      "C:\\Users\\wston\\AppData\\Local\\Temp/ipykernel_3740/2785393070.py:34: DeprecationWarning: The truth value of an empty array is ambiguous. Returning False, but in future this will result in an error. Use `array.size > 0` to check that an array is not empty.\n",
      "  if y1==(y1[d==y1]):\n"
     ]
    },
    {
     "data": {
      "image/png": "[encoded data removed]",
      "text/plain": [
       "<Figure size 432x288 with 1 Axes>"
      ]
     },
     "metadata": {
      "needs_background": "light"
     },
     "output_type": "display_data"
    }
   ],
   "source": [
    "import numpy as np\n",
    "import matplotlib.pyplot as plt\n",
    "\n",
    "x = np.arange(-100, 100, 1)\n",
    "\n",
    "a = float(input(\"select an integer for 'a': \"))\n",
    "b = float(input(\"select an integer for 'b': \"))\n",
    "c = float(input(\"select an integer for 'c': \"))\n",
    "e = int(input('Select an exponent: '))\n",
    "d = int(input('Select tangent point: '))\n",
    "\n",
    "x_vert = -(b/(2*a))\n",
    "y = a*x**e + b*x + c\n",
    "yy = a*x_vert**e + b*x_vert + c\n",
    "x_vert_round = round(x_vert, 3)\n",
    "y_vert = yy\n",
    "y_vert_round = round(y_vert,3)\n",
    "print(\"Your discriminant equals: \",x_vert_round)\n",
    "print(f'your vertex is:',x_vert_round,',',y_vert_round)\n",
    "\n",
    "prime = (((a*d)*(x**(e-1)))+b)\n",
    "slope = (((a*e)*(d**(e-1)))+b)\n",
    "tangent =(28*x)-35\n",
    "\n",
    "tan1=slope*x\n",
    "\n",
    "for x1 in x:\n",
    "    if x1==(x1[d==x1]):\n",
    "        tan2=x1\n",
    "        print('x1:',tan2)\n",
    "        \n",
    "\n",
    "for y1 in x:\n",
    "    if y1==(y1[d==y1]):\n",
    "        y1=a*d**e+b*d+c\n",
    "        tangent1=(tan1-((slope*d)-y1))\n",
    "        print('y1:',y1)\n",
    "        print('slope:',slope)\n",
    "        \n",
    "\n",
    "print('m*x:',(slope*d))\n",
    "print('f(x):',y)\n",
    "print('tangent:',tangent1)\n",
    "\n",
    "plt.ylim(-500,500,50)\n",
    "plt.grid()\n",
    "plt.plot(y)\n",
    "plt.plot(tangent1)\n",
    "plt.show()"
   ]
  }
 ],
 "metadata": {
  "kernelspec": {
   "display_name": "Python 3",
   "language": "python",
   "name": "python3"
  },
  "language_info": {
   "codemirror_mode": {
    "name": "ipython",
    "version": 3
   },
   "file_extension": ".py",
   "mimetype": "text/x-python",
   "name": "python",
   "nbconvert_exporter": "python",
   "pygments_lexer": "ipython3",
   "version": "3.9.6"
  },
  "vscode": {
   "interpreter": {
    "hash": "7f30b61588f9226991898c492d0623badcbd51d114ede6adcda3f93366c18369"
   }
  }
 },
 "nbformat": 4,
 "nbformat_minor": 5
}
