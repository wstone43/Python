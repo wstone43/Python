{
 "cells": [
  {
   "cell_type": "code",
   "execution_count": null,
   "metadata": {},
   "outputs": [],
   "source": [
    "import requests\n",
    "import quandl\n",
    "import config\n",
    "import eod\n",
    "\n",
    "\n",
    "df = config.get(api_key='67b82680d8msh00e807b31a7d3b9p1c3dd4jsnf7fc6f71f469')\n",
    "\n",
    "\n",
    "import sys\n",
    "sys.path.append('/anaconda/')\n",
    "import config\n",
    "quandl_key = df\n",
    "\n",
    "\n",
    "from IPython.core.display import Image\n",
    "import numpy as np\n",
    "import pandas as pd\n",
    "pd.core.common.is_list_like = pd.api.types.is_list_like \n",
    "# May be necessary to fix below issue\n",
    "# https://github.com/pydata/pandas-datareader/issues/534\n",
    "import pandas_datareader.data as web\n",
    "%matplotlib inline\n",
    "\n",
    "\n",
    "def get_symbols(symbols,data_source, quandl_key=None, begin_date=None,end_date=None):\n",
    "    out = pd.DataFrame()\n",
    "    for symbol in symbols:\n",
    "        df = web.DataReader(symbol, data_source,begin_date, end_date)\\\n",
    "        [['AdjOpen','AdjHigh','AdjLow','AdjClose','AdjVolume']].reset_index()\n",
    "        df.columns = ['date','open','high','low','close','volume'] \n",
    "        df['symbol'] = symbol # add symbol col so we can keep all in the same dataframe\n",
    "        df = df.set_index(['date','symbol'])\n",
    "        out = pd.concat([out,df],axis=0) #stacks on top of previously collected data\n",
    "    return out.sort_index()\n",
    "        \n",
    "prices = get_symbols(['AAPL','CSCO','AMZN','YHOO','MSFT'],\\\n",
    "                     data_source='quandl',quandl_key=quandl_key,begin_date='2012-01-01',end_date=None)"
   ]
  },
  {
   "cell_type": "code",
   "execution_count": 1,
   "metadata": {},
   "outputs": [
    {
     "ename": "NameError",
     "evalue": "name 'prices' is not defined",
     "output_type": "error",
     "traceback": [
      "\u001b[1;31m---------------------------------------------------------------------------\u001b[0m",
      "\u001b[1;31mNameError\u001b[0m                                 Traceback (most recent call last)",
      "\u001b[1;32m~\\AppData\\Local\\Temp/ipykernel_8764/1731571216.py\u001b[0m in \u001b[0;36m<cell line: 1>\u001b[1;34m()\u001b[0m\n\u001b[1;32m----> 1\u001b[1;33m \u001b[0mnum_obs\u001b[0m \u001b[1;33m=\u001b[0m \u001b[0mprices\u001b[0m\u001b[1;33m.\u001b[0m\u001b[0mclose\u001b[0m\u001b[1;33m.\u001b[0m\u001b[0mcount\u001b[0m\u001b[1;33m(\u001b[0m\u001b[1;33m)\u001b[0m\u001b[1;33m\u001b[0m\u001b[1;33m\u001b[0m\u001b[0m\n\u001b[0m\u001b[0;32m      2\u001b[0m \u001b[1;33m\u001b[0m\u001b[0m\n\u001b[0;32m      3\u001b[0m \u001b[1;32mdef\u001b[0m \u001b[0madd_memory\u001b[0m\u001b[1;33m(\u001b[0m\u001b[0ms\u001b[0m\u001b[1;33m,\u001b[0m\u001b[0mn_days\u001b[0m\u001b[1;33m=\u001b[0m\u001b[1;36m50\u001b[0m\u001b[1;33m,\u001b[0m\u001b[0mmem_strength\u001b[0m\u001b[1;33m=\u001b[0m\u001b[1;36m0.1\u001b[0m\u001b[1;33m)\u001b[0m\u001b[1;33m:\u001b[0m\u001b[1;33m\u001b[0m\u001b[1;33m\u001b[0m\u001b[0m\n\u001b[0;32m      4\u001b[0m     \u001b[1;34m''' adds autoregressive behavior to series of data'''\u001b[0m\u001b[1;33m\u001b[0m\u001b[1;33m\u001b[0m\u001b[0m\n\u001b[0;32m      5\u001b[0m     \u001b[0madd_ewm\u001b[0m \u001b[1;33m=\u001b[0m \u001b[1;32mlambda\u001b[0m \u001b[0mx\u001b[0m\u001b[1;33m:\u001b[0m \u001b[1;33m(\u001b[0m\u001b[1;36m1\u001b[0m\u001b[1;33m-\u001b[0m\u001b[0mmem_strength\u001b[0m\u001b[1;33m)\u001b[0m\u001b[1;33m*\u001b[0m\u001b[0mx\u001b[0m \u001b[1;33m+\u001b[0m \u001b[0mmem_strength\u001b[0m\u001b[1;33m*\u001b[0m\u001b[0mx\u001b[0m\u001b[1;33m.\u001b[0m\u001b[0mewm\u001b[0m\u001b[1;33m(\u001b[0m\u001b[0mn_days\u001b[0m\u001b[1;33m)\u001b[0m\u001b[1;33m.\u001b[0m\u001b[0mmean\u001b[0m\u001b[1;33m(\u001b[0m\u001b[1;33m)\u001b[0m\u001b[1;33m\u001b[0m\u001b[1;33m\u001b[0m\u001b[0m\n",
      "\u001b[1;31mNameError\u001b[0m: name 'prices' is not defined"
     ]
    }
   ],
   "source": [
    "num_obs = prices.close.count()\n",
    "\n",
    "def add_memory(s,n_days=50,mem_strength=0.1):\n",
    "    ''' adds autoregressive behavior to series of data'''\n",
    "    add_ewm = lambda x: (1-mem_strength)*x + mem_strength*x.ewm(n_days).mean()\n",
    "    out = s.groupby(level='symbol').apply(add_ewm)\n",
    "    return out\n",
    "\n",
    "# generate feature data\n",
    "f01 = pd.Series(np.random.randn(num_obs),index=prices.index)\n",
    "f01 = add_memory(f01,10,0.1)\n",
    "f02 = pd.Series(np.random.randn(num_obs),index=prices.index)\n",
    "f02 = add_memory(f02,10,0.1)\n",
    "f03 = pd.Series(np.random.randn(num_obs),index=prices.index)\n",
    "f03 = add_memory(f03,10,0.1)\n",
    "f04 = pd.Series(np.random.randn(num_obs),index=prices.index)\n",
    "f04 = f04 # no memory\n",
    "\n",
    "features = pd.concat([f01,f02,f03,f04],axis=1)\n",
    "\n",
    "## now, create response variable such that it is related to features\n",
    "# f01 becomes increasingly important, f02 becomes decreasingly important,\n",
    "# f03 oscillates in importance, f04 is stationary, \n",
    "# and finally a noise component is added\n",
    "\n",
    "outcome =   f01 * np.linspace(0.5,1.5,num_obs) + \\\n",
    "            f02 * np.linspace(1.5,0.5,num_obs) + \\\n",
    "            f03 * pd.Series(np.sin(2*np.pi*np.linspace(0,1,num_obs)*2)+1,index=f03.index) + \\\n",
    "            f04 + \\\n",
    "            np.random.randn(num_obs) * 3 \n",
    "outcome.name = 'outcome'"
   ]
  },
  {
   "cell_type": "code",
   "execution_count": null,
   "metadata": {},
   "outputs": [],
   "source": [
    "from configparser import ConfigParser\n",
    "config = ConfigParser()\n",
    "config.read('https://real-time-finance-data.p.rapidapi.com/search')\n",
    "\n",
    "api_key=r'67b82680d8msh00e807b31a7d3b9p1c3dd4jsnf7fc6f71f469'\n",
    "\n",
    "headers = {\n",
    "\t\"X-RapidAPI-Key\": \"67b82680d8msh00e807b31a7d3b9p1c3dd4jsnf7fc6f71f469\",\n",
    "\t\"X-RapidAPI-Host\": \"real-time-finance-data.p.rapidapi.com\"\n",
    "}\n",
    "\n",
    "API_KEY = config.get(api_key,False)"
   ]
  },
  {
   "cell_type": "code",
   "execution_count": null,
   "metadata": {},
   "outputs": [],
   "source": [
    "import quandl\n",
    "import numpy as np\n",
    "import pandas as pd\n",
    "pd.core.common.is_list_like = pd.api.types.is_list_like # remove once updated pandas-datareader issue is fixed\n",
    "# https://github.com/pydata/pandas-datareader/issues/534\n",
    "import pandas_datareader.data as web\n",
    "%matplotlib inline\n",
    "\n",
    "def get_symbols(symbols,data_source, begin_date=None,end_date=None):\n",
    "    out = pd.DataFrame()\n",
    "    for symbol in symbols:\n",
    "        df = web.DataReader(symbol, data_source,begin_date, end_date)\\\n",
    "        [['AdjOpen','AdjHigh','AdjLow','AdjClose','AdjVolume']].reset_index()\n",
    "        df.columns = ['date','open','high','low','close','volume'] #my convention: always lowercase\n",
    "        df['symbol'] = symbol # add a new column which contains the symbol so we can keep multiple symbols in the same dataframe\n",
    "        df = df.set_index(['date','symbol'])\n",
    "        out = pd.concat([out,df],axis=0) #stacks on top of previously collected data\n",
    "    return out.sort_index()\n",
    "        \n",
    "prices = get_symbols(['AAPL','CSCO'],data_source='quandl',\\\n",
    "                     begin_date='2015-01-01',end_date='2017-01-01')\n"
   ]
  }
 ],
 "metadata": {
  "kernelspec": {
   "display_name": "Python 3",
   "language": "python",
   "name": "python3"
  },
  "language_info": {
   "codemirror_mode": {
    "name": "ipython",
    "version": 3
   },
   "file_extension": ".py",
   "mimetype": "text/x-python",
   "name": "python",
   "nbconvert_exporter": "python",
   "pygments_lexer": "ipython3",
   "version": "3.9.6"
  },
  "orig_nbformat": 4,
  "vscode": {
   "interpreter": {
    "hash": "7f30b61588f9226991898c492d0623badcbd51d114ede6adcda3f93366c18369"
   }
  }
 },
 "nbformat": 4,
 "nbformat_minor": 2
}
