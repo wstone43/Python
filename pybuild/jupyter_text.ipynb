{
 "cells": [
  {
   "cell_type": "code",
   "execution_count": 14,
   "metadata": {},
   "outputs": [
    {
     "data": {
      "text/html": [
       "<div>\n",
       "<style scoped>\n",
       "    .dataframe tbody tr th:only-of-type {\n",
       "        vertical-align: middle;\n",
       "    }\n",
       "\n",
       "    .dataframe tbody tr th {\n",
       "        vertical-align: top;\n",
       "    }\n",
       "\n",
       "    .dataframe thead th {\n",
       "        text-align: right;\n",
       "    }\n",
       "</style>\n",
       "<table border=\"1\" class=\"dataframe\">\n",
       "  <thead>\n",
       "    <tr style=\"text-align: right;\">\n",
       "      <th></th>\n",
       "      <th>emp_no</th>\n",
       "      <th>birth_date</th>\n",
       "      <th>first_name</th>\n",
       "      <th>last_name</th>\n",
       "      <th>gender</th>\n",
       "      <th>hire_date</th>\n",
       "    </tr>\n",
       "  </thead>\n",
       "  <tbody>\n",
       "    <tr>\n",
       "      <th>0</th>\n",
       "      <td>0.000</td>\n",
       "      <td>9/2/1953</td>\n",
       "      <td>Georgi</td>\n",
       "      <td>Facello</td>\n",
       "      <td>M</td>\n",
       "      <td>6/26/1986</td>\n",
       "    </tr>\n",
       "    <tr>\n",
       "      <th>1</th>\n",
       "      <td>10.002</td>\n",
       "      <td>6/2/1964</td>\n",
       "      <td>Bezalel</td>\n",
       "      <td>Simmel</td>\n",
       "      <td>F</td>\n",
       "      <td>11/21/1985</td>\n",
       "    </tr>\n",
       "    <tr>\n",
       "      <th>2</th>\n",
       "      <td>10.003</td>\n",
       "      <td>12/3/1959</td>\n",
       "      <td>Parto</td>\n",
       "      <td>Bamford</td>\n",
       "      <td>M</td>\n",
       "      <td>8/28/1986</td>\n",
       "    </tr>\n",
       "    <tr>\n",
       "      <th>3</th>\n",
       "      <td>10.004</td>\n",
       "      <td>5/1/1954</td>\n",
       "      <td>Chirstian</td>\n",
       "      <td>Koblick</td>\n",
       "      <td>M</td>\n",
       "      <td>12/1/1986</td>\n",
       "    </tr>\n",
       "    <tr>\n",
       "      <th>4</th>\n",
       "      <td>10.005</td>\n",
       "      <td>1/21/1955</td>\n",
       "      <td>Kyoichi</td>\n",
       "      <td>Maliniak</td>\n",
       "      <td>M</td>\n",
       "      <td>9/12/1989</td>\n",
       "    </tr>\n",
       "  </tbody>\n",
       "</table>\n",
       "</div>"
      ],
      "text/plain": [
       "   emp_no birth_date first_name last_name gender   hire_date\n",
       "0   0.000   9/2/1953     Georgi   Facello      M   6/26/1986\n",
       "1  10.002   6/2/1964    Bezalel    Simmel      F  11/21/1985\n",
       "2  10.003  12/3/1959      Parto   Bamford      M   8/28/1986\n",
       "3  10.004   5/1/1954  Chirstian   Koblick      M   12/1/1986\n",
       "4  10.005  1/21/1955    Kyoichi  Maliniak      M   9/12/1989"
      ]
     },
     "execution_count": 14,
     "metadata": {},
     "output_type": "execute_result"
    }
   ],
   "source": [
    "import pandas as pd\n",
    "\n",
    "file = open(\"c:/users/wston/documents/roster.csv\")\n",
    "\n",
    "frame = pd.read_csv(file)\n",
    "\n",
    "frame.head()\n",
    "\n",
    "gender = frame[\"gender\"].value_counts() \n",
    "gender\n",
    "\n",
    "x = type(frame[\"emp_no\"])\n",
    "x\n",
    "\n",
    "frame[\"emp_no\"] = pd.to_numeric(frame[\"emp_no\"], errors='coerce').fillna(0).astype(int)\n",
    "\n",
    "emp = frame[\"emp_no\"]/1000\n",
    "frame[\"emp_no\"] = emp\n",
    "frame.head()"
   ]
  }
 ],
 "metadata": {
  "interpreter": {
   "hash": "d5244be6a54641afe57628feb4c25cf3b9cabd18549baed96c85d8a2497b737d"
  },
  "kernelspec": {
   "display_name": "Python 3.9.6 64-bit",
   "language": "python",
   "name": "python3"
  },
  "language_info": {
   "codemirror_mode": {
    "name": "ipython",
    "version": 3
   },
   "file_extension": ".py",
   "mimetype": "text/x-python",
   "name": "python",
   "nbconvert_exporter": "python",
   "pygments_lexer": "ipython3",
   "version": "3.9.6"
  },
  "orig_nbformat": 4
 },
 "nbformat": 4,
 "nbformat_minor": 2
}
