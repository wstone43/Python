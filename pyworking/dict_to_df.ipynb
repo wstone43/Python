{
 "cells": [
  {
   "cell_type": "code",
   "execution_count": 1,
   "metadata": {},
   "outputs": [
    {
     "name": "stdout",
     "output_type": "stream",
     "text": [
      "CSV Header: ['Date', 'Close']\n",
      "CSV Header: ['Date', 'Close']\n"
     ]
    },
    {
     "data": {
      "image/png": "[encoded data removed]",
      "text/plain": [
       "<Figure size 432x288 with 1 Axes>"
      ]
     },
     "metadata": {
      "needs_background": "light"
     },
     "output_type": "display_data"
    },
    {
     "data": {
      "text/html": [
       "<div>\n",
       "<style scoped>\n",
       "    .dataframe tbody tr th:only-of-type {\n",
       "        vertical-align: middle;\n",
       "    }\n",
       "\n",
       "    .dataframe tbody tr th {\n",
       "        vertical-align: top;\n",
       "    }\n",
       "\n",
       "    .dataframe thead th {\n",
       "        text-align: right;\n",
       "    }\n",
       "</style>\n",
       "<table border=\"1\" class=\"dataframe\">\n",
       "  <thead>\n",
       "    <tr style=\"text-align: right;\">\n",
       "      <th></th>\n",
       "      <th>Delta_x</th>\n",
       "      <th>Delta_y</th>\n",
       "    </tr>\n",
       "    <tr>\n",
       "      <th>Date</th>\n",
       "      <th></th>\n",
       "      <th></th>\n",
       "    </tr>\n",
       "  </thead>\n",
       "  <tbody>\n",
       "    <tr>\n",
       "      <th>2023-12-08</th>\n",
       "      <td>0.494560</td>\n",
       "      <td>0.458241</td>\n",
       "    </tr>\n",
       "    <tr>\n",
       "      <th>2023-12-07</th>\n",
       "      <td>1.366086</td>\n",
       "      <td>0.824603</td>\n",
       "    </tr>\n",
       "    <tr>\n",
       "      <th>2023-12-06</th>\n",
       "      <td>0.272286</td>\n",
       "      <td>0.146421</td>\n",
       "    </tr>\n",
       "    <tr>\n",
       "      <th>2023-12-05</th>\n",
       "      <td>1.332881</td>\n",
       "      <td>0.176017</td>\n",
       "    </tr>\n",
       "    <tr>\n",
       "      <th>2023-12-04</th>\n",
       "      <td>-1.360801</td>\n",
       "      <td>-0.379914</td>\n",
       "    </tr>\n",
       "    <tr>\n",
       "      <th>...</th>\n",
       "      <td>...</td>\n",
       "      <td>...</td>\n",
       "    </tr>\n",
       "    <tr>\n",
       "      <th>2010-07-06</th>\n",
       "      <td>-16.406250</td>\n",
       "      <td>0.000000</td>\n",
       "    </tr>\n",
       "    <tr>\n",
       "      <th>2010-07-02</th>\n",
       "      <td>-12.328767</td>\n",
       "      <td>-1.123595</td>\n",
       "    </tr>\n",
       "    <tr>\n",
       "      <th>2010-07-01</th>\n",
       "      <td>-8.176101</td>\n",
       "      <td>0.823900</td>\n",
       "    </tr>\n",
       "    <tr>\n",
       "      <th>2010-06-30</th>\n",
       "      <td>0.000000</td>\n",
       "      <td>-1.220756</td>\n",
       "    </tr>\n",
       "    <tr>\n",
       "      <th>2010-06-29</th>\n",
       "      <td>NaN</td>\n",
       "      <td>NaN</td>\n",
       "    </tr>\n",
       "  </tbody>\n",
       "</table>\n",
       "<p>3386 rows × 2 columns</p>\n",
       "</div>"
      ],
      "text/plain": [
       "              Delta_x   Delta_y\n",
       "Date                           \n",
       "2023-12-08   0.494560  0.458241\n",
       "2023-12-07   1.366086  0.824603\n",
       "2023-12-06   0.272286  0.146421\n",
       "2023-12-05   1.332881  0.176017\n",
       "2023-12-04  -1.360801 -0.379914\n",
       "...               ...       ...\n",
       "2010-07-06 -16.406250  0.000000\n",
       "2010-07-02 -12.328767 -1.123595\n",
       "2010-07-01  -8.176101  0.823900\n",
       "2010-06-30   0.000000 -1.220756\n",
       "2010-06-29        NaN       NaN\n",
       "\n",
       "[3386 rows x 2 columns]"
      ]
     },
     "execution_count": 1,
     "metadata": {},
     "output_type": "execute_result"
    }
   ],
   "source": [
    "import pandas as pd\n",
    "import matplotlib.pyplot as plt\n",
    "import os \n",
    "import csv\n",
    "from datetime import datetime\n",
    "import numpy as np  \n",
    "from sklearn.datasets import make_regression\n",
    "from sklearn import datasets, linear_model\n",
    "from sklearn.linear_model import LinearRegression\n",
    "from sklearn.metrics import mean_squared_error, r2_score\n",
    "from sklearn.model_selection import train_test_split\n",
    "import warnings\n",
    "\n",
    "warnings.filterwarnings(\"ignore\")\n",
    "\n",
    "pd.set_option('display.max_rows', 500)\n",
    "pd.set_option('display.max_columns', 10)\n",
    "pd.set_option('display.width', 1000)\n",
    "\n",
    "tsla = 'c:/Users/wston/Documents/tsla_full.csv'\n",
    "xly = 'c:/users/wston/Documents/xly.csv'\n",
    "tsla1 = 'c:/users/wston/Documents/tsla1.csv'\n",
    "xly1 = 'c:/users/wston/Documents/xly1.csv'\n",
    "\n",
    "tsla_prof={'Date':[],'Close':[]}\n",
    "xly_prof={'Date':[],'Close':[]}\n",
    "\n",
    "with open(tsla, newline='') as tsla_read:\n",
    "    tsla_reader = csv.reader(tsla_read, delimiter=',')\n",
    "\n",
    "    tsla_header = next(tsla_reader)\n",
    "    print(f\"CSV Header: {tsla_header[0::1]}\")\n",
    "\n",
    "    with open(tsla1, mode='w') as tsla_out:\n",
    "        tsla_writer = csv.writer(tsla_out)\n",
    "        tsla_prof = {jump[0]:jump[1] for jump in tsla_reader}\n",
    "\n",
    "        for i,k in tsla_reader:\n",
    "            tsla_prof['Date'].append(\n",
    "    \t        {\n",
    "                    (i[0:]),\n",
    "                    \n",
    "                }\n",
    "        )  \n",
    "            tsla_prof['Close'].append(\n",
    "                {\n",
    "                    (k[::1])\n",
    "                    \n",
    "                }\n",
    "                    \n",
    "        ) \n",
    "\n",
    "t_chunklen = 1\n",
    "t_list = list(tsla_prof.items())\n",
    "td = [dict(t_list[i:i + t_chunklen]) for i in range(0, len(t_list), t_chunklen)]\n",
    "\n",
    "\n",
    "with open(xly, newline='') as xly_read:\n",
    "    xly_reader = csv.reader(xly_read, delimiter=',') \n",
    "\n",
    "    xly_header = next(xly_reader)\n",
    "    print(f\"CSV Header: {xly_header[0::1]}\")\n",
    "\n",
    "    with open(xly1, mode='w') as xly_out:\n",
    "        xly_writer = csv.writer(xly_out)\n",
    "        xly_prof = {roll[0]:roll[1] for roll in xly_reader}\n",
    "\n",
    "        for x,y in xly_reader:\n",
    "            xly_prof['Date'].append(\n",
    "    \t        {\n",
    "                    (x[0:]),\n",
    "                    \n",
    "                }\n",
    "        )  \n",
    "            xly_prof['Close'].append(\n",
    "                {\n",
    "                    (y[::1])\n",
    "                    \n",
    "                }\n",
    "        ) \n",
    "        \n",
    "v_chunklen = 1\n",
    "v_list = list(xly_prof.items())\n",
    "vd = [dict(v_list[l:l + v_chunklen]) for l in range(0, len(v_list), v_chunklen)]\n",
    "\n",
    "\n",
    "t_df = pd.DataFrame(t_list)\n",
    "v_df = pd.DataFrame(v_list)\n",
    "\n",
    "t_df.columns = ['Date', 'Close']\n",
    "v_df.columns = ['Date', 'Close']\n",
    "\n",
    "t_df['Date'] = pd.to_datetime(t_df[\"Date\"])\n",
    "t_df['Close'] = t_df['Close'].astype(float)\n",
    "t_df['Close'].astype(int)\n",
    "\n",
    "v_df['Date'] = pd.to_datetime(v_df[\"Date\"])\n",
    "v_df['Close'] = v_df['Close'].astype(float)\n",
    "v_df['Close'].astype(int)\n",
    " \n",
    "t_df.set_index('Date', inplace=True)\n",
    "v_df.set_index('Date', inplace=True)\n",
    "\n",
    "t_df['Delta'] = t_df['Close'].pct_change(periods=-1)*100\n",
    "v_df['Delta'] = v_df['Close'].pct_change(periods=-1)*100\n",
    "\n",
    "m_delta = pd.merge(t_df['Delta'],v_df['Delta'],how='inner',left_index=True,right_index=True)\n",
    "\n",
    "bingo = plt.plot(m_delta.index,m_delta['Delta_x'],m_delta['Delta_y'])\n",
    "plt.legend(iter(bingo),('TSLA', 'XLY'))\n",
    "plt.show()\n",
    "\n",
    "m_delta\n",
    "\n"
   ]
  },
  {
   "cell_type": "code",
   "execution_count": 2,
   "metadata": {},
   "outputs": [
    {
     "data": {
      "text/html": [
       "<div>\n",
       "<style scoped>\n",
       "    .dataframe tbody tr th:only-of-type {\n",
       "        vertical-align: middle;\n",
       "    }\n",
       "\n",
       "    .dataframe tbody tr th {\n",
       "        vertical-align: top;\n",
       "    }\n",
       "\n",
       "    .dataframe thead th {\n",
       "        text-align: right;\n",
       "    }\n",
       "</style>\n",
       "<table border=\"1\" class=\"dataframe\">\n",
       "  <thead>\n",
       "    <tr style=\"text-align: right;\">\n",
       "      <th></th>\n",
       "      <th>Close_x</th>\n",
       "      <th>Close_y</th>\n",
       "    </tr>\n",
       "  </thead>\n",
       "  <tbody>\n",
       "    <tr>\n",
       "      <th>0</th>\n",
       "      <td>243.84</td>\n",
       "      <td>173.190002</td>\n",
       "    </tr>\n",
       "    <tr>\n",
       "      <th>1</th>\n",
       "      <td>242.64</td>\n",
       "      <td>172.399994</td>\n",
       "    </tr>\n",
       "    <tr>\n",
       "      <th>2</th>\n",
       "      <td>239.37</td>\n",
       "      <td>170.990005</td>\n",
       "    </tr>\n",
       "    <tr>\n",
       "      <th>3</th>\n",
       "      <td>238.72</td>\n",
       "      <td>170.740005</td>\n",
       "    </tr>\n",
       "    <tr>\n",
       "      <th>4</th>\n",
       "      <td>235.58</td>\n",
       "      <td>170.440002</td>\n",
       "    </tr>\n",
       "    <tr>\n",
       "      <th>...</th>\n",
       "      <td>...</td>\n",
       "      <td>...</td>\n",
       "    </tr>\n",
       "    <tr>\n",
       "      <th>3381</th>\n",
       "      <td>1.07</td>\n",
       "      <td>29.040001</td>\n",
       "    </tr>\n",
       "    <tr>\n",
       "      <th>3382</th>\n",
       "      <td>1.28</td>\n",
       "      <td>29.040001</td>\n",
       "    </tr>\n",
       "    <tr>\n",
       "      <th>3383</th>\n",
       "      <td>1.46</td>\n",
       "      <td>29.370001</td>\n",
       "    </tr>\n",
       "    <tr>\n",
       "      <th>3384</th>\n",
       "      <td>1.59</td>\n",
       "      <td>29.129999</td>\n",
       "    </tr>\n",
       "    <tr>\n",
       "      <th>3385</th>\n",
       "      <td>1.59</td>\n",
       "      <td>29.490000</td>\n",
       "    </tr>\n",
       "  </tbody>\n",
       "</table>\n",
       "<p>3386 rows × 2 columns</p>\n",
       "</div>"
      ],
      "text/plain": [
       "      Close_x     Close_y\n",
       "0      243.84  173.190002\n",
       "1      242.64  172.399994\n",
       "2      239.37  170.990005\n",
       "3      238.72  170.740005\n",
       "4      235.58  170.440002\n",
       "...       ...         ...\n",
       "3381     1.07   29.040001\n",
       "3382     1.28   29.040001\n",
       "3383     1.46   29.370001\n",
       "3384     1.59   29.129999\n",
       "3385     1.59   29.490000\n",
       "\n",
       "[3386 rows x 2 columns]"
      ]
     },
     "execution_count": 2,
     "metadata": {},
     "output_type": "execute_result"
    }
   ],
   "source": [
    "m_df= pd.merge(t_df['Close'],v_df['Close'],how='inner',left_index=True,right_index=True)\n",
    "m_df\n",
    "df_reg = m_df[['Close_x','Close_y']].copy()\n",
    "df_reg.dropna(axis='columns')\n",
    "df_reg.reset_index(drop=True, inplace=True)\n",
    "df_reg"
   ]
  },
  {
   "cell_type": "code",
   "execution_count": 3,
   "metadata": {},
   "outputs": [
    {
     "name": "stdout",
     "output_type": "stream",
     "text": [
      "Weight coefficients:  [[0.3990982]]\n",
      "y-axis intercept:  [69.82213629]\n"
     ]
    }
   ],
   "source": [
    "X=df_reg[['Close_x']]\n",
    "y=df_reg[['Close_y']]\n",
    "\n",
    "regressor = LinearRegression()\n",
    "regressor.fit(X, y)\n",
    "\n",
    "print('Weight coefficients: ', regressor.coef_)\n",
    "print('y-axis intercept: ', regressor.intercept_) "
   ]
  },
  {
   "cell_type": "code",
   "execution_count": 4,
   "metadata": {},
   "outputs": [
    {
     "name": "stdout",
     "output_type": "stream",
     "text": [
      "True output: 173.190002\n",
      "Predicted output: 167.1382402311099\n",
      "Prediction Error: -6.051761768890088\n"
     ]
    }
   ],
   "source": [
    "predictions = regressor.predict(X)\n",
    "\n",
    "print(f\"True output: {y['Close_y'][0]}\")\n",
    "print(f\"Predicted output: {predictions[0][0]}\")\n",
    "print(f\"Prediction Error: {predictions[0][0]-y['Close_y'][0]}\")"
   ]
  },
  {
   "cell_type": "code",
   "execution_count": 5,
   "metadata": {},
   "outputs": [
    {
     "data": {
      "image/png": "[encoded data removed]",
      "text/plain": [
       "<Figure size 432x288 with 1 Axes>"
      ]
     },
     "metadata": {
      "needs_background": "light"
     },
     "output_type": "display_data"
    }
   ],
   "source": [
    "plt.scatter(X, y, color = 'red')\n",
    "plt.plot(X, regressor.predict(X), color = 'blue')\n",
    "plt.title('XYL Regression (TSLA)')\n",
    "plt.xlabel('TSLA')\n",
    "plt.ylabel('XLY')\n",
    "plt.show()"
   ]
  },
  {
   "cell_type": "code",
   "execution_count": 6,
   "metadata": {},
   "outputs": [
    {
     "data": {
      "text/html": [
       "<div>\n",
       "<style scoped>\n",
       "    .dataframe tbody tr th:only-of-type {\n",
       "        vertical-align: middle;\n",
       "    }\n",
       "\n",
       "    .dataframe tbody tr th {\n",
       "        vertical-align: top;\n",
       "    }\n",
       "\n",
       "    .dataframe thead th {\n",
       "        text-align: right;\n",
       "    }\n",
       "</style>\n",
       "<table border=\"1\" class=\"dataframe\">\n",
       "  <thead>\n",
       "    <tr style=\"text-align: right;\">\n",
       "      <th></th>\n",
       "      <th>Predictions</th>\n",
       "      <th>Actual</th>\n",
       "      <th>Error</th>\n",
       "    </tr>\n",
       "  </thead>\n",
       "  <tbody>\n",
       "    <tr>\n",
       "      <th>0</th>\n",
       "      <td>167.138240</td>\n",
       "      <td>173.190002</td>\n",
       "      <td>-6.051762</td>\n",
       "    </tr>\n",
       "    <tr>\n",
       "      <th>1</th>\n",
       "      <td>166.659322</td>\n",
       "      <td>172.399994</td>\n",
       "      <td>-5.740672</td>\n",
       "    </tr>\n",
       "    <tr>\n",
       "      <th>2</th>\n",
       "      <td>165.354271</td>\n",
       "      <td>170.990005</td>\n",
       "      <td>-5.635734</td>\n",
       "    </tr>\n",
       "    <tr>\n",
       "      <th>3</th>\n",
       "      <td>165.094857</td>\n",
       "      <td>170.740005</td>\n",
       "      <td>-5.645148</td>\n",
       "    </tr>\n",
       "    <tr>\n",
       "      <th>4</th>\n",
       "      <td>163.841689</td>\n",
       "      <td>170.440002</td>\n",
       "      <td>-6.598313</td>\n",
       "    </tr>\n",
       "    <tr>\n",
       "      <th>...</th>\n",
       "      <td>...</td>\n",
       "      <td>...</td>\n",
       "      <td>...</td>\n",
       "    </tr>\n",
       "    <tr>\n",
       "      <th>3381</th>\n",
       "      <td>70.249171</td>\n",
       "      <td>29.040001</td>\n",
       "      <td>41.209170</td>\n",
       "    </tr>\n",
       "    <tr>\n",
       "      <th>3382</th>\n",
       "      <td>70.332982</td>\n",
       "      <td>29.040001</td>\n",
       "      <td>41.292981</td>\n",
       "    </tr>\n",
       "    <tr>\n",
       "      <th>3383</th>\n",
       "      <td>70.404820</td>\n",
       "      <td>29.370001</td>\n",
       "      <td>41.034819</td>\n",
       "    </tr>\n",
       "    <tr>\n",
       "      <th>3384</th>\n",
       "      <td>70.456702</td>\n",
       "      <td>29.129999</td>\n",
       "      <td>41.326703</td>\n",
       "    </tr>\n",
       "    <tr>\n",
       "      <th>3385</th>\n",
       "      <td>70.456702</td>\n",
       "      <td>29.490000</td>\n",
       "      <td>40.966702</td>\n",
       "    </tr>\n",
       "  </tbody>\n",
       "</table>\n",
       "<p>3386 rows × 3 columns</p>\n",
       "</div>"
      ],
      "text/plain": [
       "      Predictions      Actual      Error\n",
       "0      167.138240  173.190002  -6.051762\n",
       "1      166.659322  172.399994  -5.740672\n",
       "2      165.354271  170.990005  -5.635734\n",
       "3      165.094857  170.740005  -5.645148\n",
       "4      163.841689  170.440002  -6.598313\n",
       "...           ...         ...        ...\n",
       "3381    70.249171   29.040001  41.209170\n",
       "3382    70.332982   29.040001  41.292981\n",
       "3383    70.404820   29.370001  41.034819\n",
       "3384    70.456702   29.129999  41.326703\n",
       "3385    70.456702   29.490000  40.966702\n",
       "\n",
       "[3386 rows x 3 columns]"
      ]
     },
     "execution_count": 6,
     "metadata": {},
     "output_type": "execute_result"
    }
   ],
   "source": [
    "yy=y.to_numpy()\n",
    "yy=yy.flatten()\n",
    "predictions_prime=predictions.flatten()\n",
    "df_pred=pd.DataFrame({'Predictions': predictions_prime, 'Actual': yy, 'Error': predictions_prime-yy})\n",
    "df_pred"
   ]
  },
  {
   "cell_type": "code",
   "execution_count": 7,
   "metadata": {},
   "outputs": [],
   "source": [
    "x_min = X.min()\n",
    "x_max = X.max()\n",
    "\n",
    "y_min_actual = y.min()\n",
    "y_max_actual = y.max()"
   ]
  },
  {
   "cell_type": "code",
   "execution_count": 8,
   "metadata": {},
   "outputs": [
    {
     "name": "stdout",
     "output_type": "stream",
     "text": [
      "Actual Min Value: 29.040001\n",
      "Calculated Min Value: 70.2411894\n",
      "Actual Max Value: 211.419998\n",
      "Calculated Max Value: 233.44042534400003\n"
     ]
    }
   ],
   "source": [
    "y_min = 69.82213629 + 0.3990982 * x_min\n",
    "y_max = 69.82213629 + 0.3990982 * x_max\n",
    "print(f\"Actual Min Value: {y_min_actual[0]}\")\n",
    "print(f\"Calculated Min Value: {y_min[0]}\")\n",
    "print(f\"Actual Max Value: {y_max_actual[0]}\")\n",
    "print(f\"Calculated Max Value: {y_max[0]}\")"
   ]
  },
  {
   "cell_type": "code",
   "execution_count": 9,
   "metadata": {},
   "outputs": [
    {
     "data": {
      "text/plain": [
       "[<matplotlib.lines.Line2D at 0x187d36c2550>]"
      ]
     },
     "execution_count": 9,
     "metadata": {},
     "output_type": "execute_result"
    },
    {
     "data": {
      "image/png": "[encoded data removed]",
      "text/plain": [
       "<Figure size 432x288 with 1 Axes>"
      ]
     },
     "metadata": {
      "needs_background": "light"
     },
     "output_type": "display_data"
    }
   ],
   "source": [
    "plt.scatter(X, y, c='blue')\n",
    "plt.plot([x_min, x_max], [y_min, y_max], c='red')"
   ]
  },
  {
   "cell_type": "code",
   "execution_count": 10,
   "metadata": {},
   "outputs": [
    {
     "name": "stdout",
     "output_type": "stream",
     "text": [
      "Mean Squared Error (MSE): 503.8773750712752\n",
      "R-squared (R2 ): 0.7633358779138033\n"
     ]
    }
   ],
   "source": [
    "# Use our model to predict a value\n",
    "predicted = regressor.predict(X)\n",
    "\n",
    "# Score the prediction with mse and r2\n",
    "mse = mean_squared_error(yy, predicted)\n",
    "r2 = r2_score(yy, predicted)\n",
    "\n",
    "print(f\"Mean Squared Error (MSE): {mse}\")\n",
    "print(f\"R-squared (R2 ): {r2}\")"
   ]
  },
  {
   "cell_type": "code",
   "execution_count": 11,
   "metadata": {},
   "outputs": [
    {
     "data": {
      "text/plain": [
       "0.7633358779138033"
      ]
     },
     "execution_count": 11,
     "metadata": {},
     "output_type": "execute_result"
    }
   ],
   "source": [
    "regressor.score(X, y)"
   ]
  },
  {
   "cell_type": "code",
   "execution_count": 12,
   "metadata": {},
   "outputs": [
    {
     "data": {
      "text/plain": [
       "0.7848301710479224"
      ]
     },
     "execution_count": 12,
     "metadata": {},
     "output_type": "execute_result"
    }
   ],
   "source": [
    "X_train, X_test, y_train, y_test = train_test_split(X, y, random_state=42)\n",
    "regressor.fit(X_train, y_train)\n",
    "regressor.score(X_test, y_test)"
   ]
  }
 ],
 "metadata": {
  "kernelspec": {
   "display_name": "Python 3",
   "language": "python",
   "name": "python3"
  },
  "language_info": {
   "codemirror_mode": {
    "name": "ipython",
    "version": 3
   },
   "file_extension": ".py",
   "mimetype": "text/x-python",
   "name": "python",
   "nbconvert_exporter": "python",
   "pygments_lexer": "ipython3",
   "version": "3.9.6"
  }
 },
 "nbformat": 4,
 "nbformat_minor": 2
}
